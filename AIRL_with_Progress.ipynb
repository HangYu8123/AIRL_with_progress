{
 "cells": [
  {
   "cell_type": "code",
   "execution_count": 1,
   "metadata": {},
   "outputs": [],
   "source": [
    "#! /home/nvidia/mambaforge/envs/guidedog/bin/python\n",
    "# -*- encoding: utf-8 -*-\n",
    "'''\n",
    "@File    :   Untitled-1.ipynb\n",
    "@Time    :   2024/02/18 13:05:13\n",
    "@Author  :   Noah.Fang \n",
    "@Contact :   kidyf_1205@163.com\n",
    "@WebSite :   ...\n",
    "'''\n",
    "import numpy\n",
    "from utils.airl_utils import *\n",
    "from replay_buffer import SimpleReplayBuffer\n"
   ]
  },
  {
   "cell_type": "code",
   "execution_count": 2,
   "metadata": {},
   "outputs": [
    {
     "name": "stdout",
     "output_type": "stream",
     "text": [
      "9299\n"
     ]
    }
   ],
   "source": [
    "\"\"\"\n",
    "MDP:\n",
    "    1. \n",
    "        Oberservation Space:\n",
    "            jar_position: [3x1] (relative to robo_base)这个怎么得到？\n",
    "            joint_position: [6x1]\n",
    "            gripper_state: [4x1] -> [1x1] 这个怎么转换？\n",
    "            icecream_position: [3x1] (relative to robo_base)这个怎么得到？\n",
    "        Action Space:\n",
    "            joint_position: [6x1]\n",
    "            gripper_state: [4x1] -> [1x1]\n",
    "    2.\n",
    "        Oberservation Space:\n",
    "            jar_position: [3x1] (relative to ice_cream pos?) \n",
    "            cartesion_position: [3x1]\n",
    "            gripper_state: [4x1] -> [1x1] \n",
    "        Action Space:\n",
    "            cartesion_position: [3x1]\n",
    "            gripper_state: [4x1] -> [1x1]\n",
    "\"\"\"\n",
    "observation_space = 7\n",
    "action_space = 7\n",
    "buffer = SimpleReplayBuffer(observation_space,action_space,10000)\n",
    "\n",
    "# cup_idx_list = read_cup_index_from_csv(\"/home/hang/catkin_ws/src/ldf_with_progress/BC/participant_sheet.csv\")\n",
    "cup_idx_list = [2] * 26\n",
    "file_path = \"/Users/noahf/Documents/LAB/AABL/data/bags/\"\n",
    "bag_file_list = get_all_bag_files(file_path) # 这里bc_utils.py有个小错误\n",
    "msg_list = whole_bag_to_messages(bag_file_list)\n",
    "spilt_traj_with_cup_pos_and_read_to_buffer(buffer, msg_list, cup_idx_list,2)\n",
    "print(buffer.size)\n"
   ]
  }
 ],
 "metadata": {
  "kernelspec": {
   "display_name": "ROS",
   "language": "python",
   "name": "python3"
  },
  "language_info": {
   "codemirror_mode": {
    "name": "ipython",
    "version": 3
   },
   "file_extension": ".py",
   "mimetype": "text/x-python",
   "name": "python",
   "nbconvert_exporter": "python",
   "pygments_lexer": "ipython3",
   "version": "3.9.15"
  }
 },
 "nbformat": 4,
 "nbformat_minor": 2
}
