{
 "cells": [
  {
   "cell_type": "code",
   "execution_count": 3,
   "metadata": {},
   "outputs": [
    {
     "name": "stdout",
     "output_type": "stream",
     "text": [
      "0\n"
     ]
    }
   ],
   "source": [
    "import rosbag\n",
    "\n",
    "bag_path = '/Users/noahf/Documents/LAB/AABL/data/bags/user_9/0.bag'  # 替换为你的bag文件路径\n",
    "\n",
    "try:\n",
    "    with rosbag.Bag(bag_path, 'r') as bag:  # 打开bag文件进行读取\n",
    "        for i, (topic, msg, t) in enumerate(bag.read_messages()):\n",
    "            print(i)\n",
    "            break\n",
    "except Exception as e:\n",
    "    print(\"Error reading bag file: \", e)\n"
   ]
  },
  {
   "cell_type": "markdown",
   "metadata": {},
   "source": []
  },
  {
   "cell_type": "markdown",
   "metadata": {},
   "source": [
    "oberservation_space"
   ]
  }
 ],
 "metadata": {
  "kernelspec": {
   "display_name": "ROS",
   "language": "python",
   "name": "python3"
  },
  "language_info": {
   "codemirror_mode": {
    "name": "ipython",
    "version": 3
   },
   "file_extension": ".py",
   "mimetype": "text/x-python",
   "name": "python",
   "nbconvert_exporter": "python",
   "pygments_lexer": "ipython3",
   "version": "3.9.15"
  }
 },
 "nbformat": 4,
 "nbformat_minor": 2
}
