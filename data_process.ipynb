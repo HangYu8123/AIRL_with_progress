{
 "cells": [
  {
   "cell_type": "code",
   "execution_count": 105,
   "metadata": {},
   "outputs": [],
   "source": [
    "import torch\n",
    "import matplotlib.pyplot as plt\n",
    "#head files for data analysis\n",
    "import pandas as pd\n",
    "import numpy as np\n",
    "import matplotlib.pyplot as plt\n",
    "import seaborn as sns\n",
    "import os\n",
    "import scipy.stats as stats\n",
    "from mpl_toolkits.mplot3d import Axes3D"
   ]
  },
  {
   "cell_type": "code",
   "execution_count": 106,
   "metadata": {},
   "outputs": [],
   "source": [
    "loaded_reward_dict = torch.load('/Users/noahf/Downloads/AIRL_with_progress-main/replayed_traj/g_memo.pt')\n",
    "loaded_reward_dict = {k: v for k, v in loaded_reward_dict.items() if v}"
   ]
  },
  {
   "cell_type": "code",
   "execution_count": 107,
   "metadata": {},
   "outputs": [],
   "source": [
    "# 计算每个键的总reward\n",
    "total_rewards_per_key = {key: sum(rewards) for key, rewards in loaded_reward_dict.items()}"
   ]
  },
  {
   "cell_type": "code",
   "execution_count": 108,
   "metadata": {},
   "outputs": [
    {
     "name": "stdout",
     "output_type": "stream",
     "text": [
      "34\n",
      "34\n",
      "34\n",
      "34\n",
      "[3, 4, 5, 6, 7, 8, 9, 10, 11, 12, 14, 15, 16, 17, 18, 19, 20, 21, 22, 23, 24, 25, 26, 27, 28, 29, 30, 31, 32, 33, 34, 35, 36, 38]\n"
     ]
    }
   ],
   "source": [
    "# read trajectories from folder bags\n",
    "\n",
    "nop = 40\n",
    "trajectories = []\n",
    "progresses = []\n",
    "steps = []\n",
    "scalars = []\n",
    "ind = []\n",
    "\n",
    "for i in range(nop):\n",
    "    traj = []\n",
    "    step = []\n",
    "    progress = []\n",
    "    scalar = []\n",
    "    \n",
    "    pose_path = \"/Users/noahf/Downloads/AIRL_with_progress-main/bags/user_\"+str(i)+\"/0_poses.txt\"\n",
    "    step_path = \"/Users/noahf/Downloads/AIRL_with_progress-main/bags/user_\"+str(i)+\"/0_step.txt\"\n",
    "    progress_path = \"/Users/noahf/Downloads/AIRL_with_progress-main/bags/user_\"+str(i)+\"/0_progress.txt\"\n",
    "    scalar_path = \"/Users/noahf/Downloads/AIRL_with_progress-main/bags/user_\"+str(i)+\"/0_scalar.txt\"\n",
    "    if not os.path.exists(pose_path) or not os.path.exists(step_path) or not os.path.exists(progress_path) or not os.path.exists(scalar_path):\n",
    "        continue\n",
    "    ind.append(i)\n",
    "    with open(pose_path, 'r') as file:\n",
    "        for line in file:\n",
    "            x, y, z = map(float, line.strip().split())\n",
    "            traj.append([x, y, z])\n",
    "    trajectories.append(traj)\n",
    "\n",
    "    with open(step_path, 'r') as file:\n",
    "        for line in file:\n",
    "            step.append(int(line.strip()))\n",
    "    steps.append(step)\n",
    "\n",
    "    with open(progress_path, 'r') as file:\n",
    "        for line in file:\n",
    "            progress.append(int(line.strip()))\n",
    "    progresses.append(progress)\n",
    "\n",
    "    with open(scalar_path, 'r') as file:\n",
    "        for line in file:\n",
    "            scalar.append(int(line.strip()))\n",
    "    scalars.append(scalar)\n",
    "\n",
    "    \n",
    "print(len(trajectories))\n",
    "print(len(progresses))\n",
    "print(len(steps))\n",
    "print(len(scalars))\n",
    "print(ind)"
   ]
  },
  {
   "cell_type": "code",
   "execution_count": null,
   "metadata": {},
   "outputs": [],
   "source": [
    "cumulative_rewards = {}\n",
    "for key in ind:\n",
    "    # 计算每个size/10的reward总和\n",
    "    total_length = len(loaded_reward_dict[key]) # 计算reward总长度\n",
    "    size = total_length // 10  # 计算每个区间的大小\n",
    "    cumulative_rewards[key] = [0] * 10  # 初始化累计奖励列表\n",
    "    # 计算该key的总reward\n",
    "    total_reward = total_rewards_per_key[key]\n",
    "    # 累计计算每个区间的reward总和\n",
    "    for i in range(10):\n",
    "        interval_sum = 0\n",
    "        # 对于每个键，计算该区间内的reward总和\n",
    "        interval_sum += sum(loaded_reward_dict[key][i*size:(i+1)*size])\n",
    "        cumulative_rewards[key][i] = interval_sum if i == 0 else cumulative_rewards[key][i-1] + interval_sum\n",
    "    # 设置图形的横纵坐标值\n",
    "    intervals = [(i+1) for i in range(10)]\n",
    "    cumulative_rewards[key] = [cumulative_rewards[key][i] for i in range(10)]\n"
   ]
  },
  {
   "cell_type": "code",
   "execution_count": null,
   "metadata": {},
   "outputs": [],
   "source": [
    "cumulative_rewards = {key: [(value - min(cumulative_rewards[key])) / (max(cumulative_rewards[key]) - min(cumulative_rewards[key])) * 100 for value in cumulative_rewards[key]] for key in cumulative_rewards}\n"
   ]
  },
  {
   "cell_type": "code",
   "execution_count": null,
   "metadata": {},
   "outputs": [],
   "source": [
    "print(cumulative_rewards)"
   ]
  },
  {
   "cell_type": "code",
   "execution_count": null,
   "metadata": {},
   "outputs": [],
   "source": [
    "scalars = np.array(scalars) - 50\n",
    "scalars = np.cumsum(scalars, axis=1)\n",
    "\n",
    "min_scalar = np.min(scalars, axis=1)\n",
    "max_scalar = np.max(scalars, axis=1)\n",
    "rescaled_scalars = (scalars - min_scalar[:, np.newaxis]) / (max_scalar[:, np.newaxis] - min_scalar[:, np.newaxis]) * 100\n"
   ]
  },
  {
   "cell_type": "code",
   "execution_count": null,
   "metadata": {},
   "outputs": [],
   "source": [
    "for i, item in enumerate(cumulative_rewards.values()):\n",
    "    intervals = [(i+1) for i in range(10)]\n",
    "    plt.plot(intervals, item, marker='o', label='Cumulative Rewards')  \n",
    "    plt.plot(intervals, progresses[i], marker='o', label='Progress')  \n",
    "    plt.plot(intervals, scalars[i], marker='o', label='Scalars')  \n",
    "    plt.title('Cumulative Reward per Interval')\n",
    "    plt.xlabel('Steps')\n",
    "    plt.ylabel('Cumulative Reward')\n",
    "    plt.legend()\n",
    "    plt.grid(True)\n",
    "    plt.savefig(f'/Users/noahf/Downloads/AIRL_with_progress-main/fig/disc_g/user_{i}.png')\n",
    "    plt.show()"
   ]
  },
  {
   "cell_type": "code",
   "execution_count": null,
   "metadata": {},
   "outputs": [],
   "source": [
    "for i, item in enumerate(cumulative_rewards.values()):\n",
    "    intervals = [(i+1) for i in range(10)]\n",
    "    plt.plot(intervals, item, marker='o', label='Cumulative Rewards')  \n",
    "    plt.plot(intervals, progresses[i], marker='o', label='Progress')  \n",
    "    plt.plot(intervals, rescaled_scbalars[i], marker='o', label='Cumulative Scalars')  \n",
    "    plt.title('Cumulative Reward per Interval')\n",
    "    plt.xlabel('Steps')\n",
    "    plt.ylabel('Cumulative Reward')\n",
    "    plt.legend()\n",
    "    plt.grid(True)\n",
    "    plt.savefig(f'/Users/noahf/Downloads/AIRL_with_progress-main/fig/disc_g/user_{i}.png')\n",
    "    plt.show()"
   ]
  },
  {
   "cell_type": "code",
   "execution_count": null,
   "metadata": {},
   "outputs": [],
   "source": [
    "from scipy import stats"
   ]
  },
  {
   "cell_type": "code",
   "execution_count": 112,
   "metadata": {},
   "outputs": [
    {
     "data": {
      "text/plain": [
       "[[90, 100, 100, 50, 70, 80, 80, 85, 85, 85],\n",
       " [10, 100, 100, 10, 100, 50, 0, 90, 90, 80],\n",
       " [98, 100, 100, 70, 100, 100, 100, 90, 100, 100],\n",
       " [100, 100, 100, 100, 100, 90, 85, 90, 80, 80],\n",
       " [50, 60, 30, 50, 10, 75, 30, 30, 30, 80],\n",
       " [100, 100, 100, 100, 95, 100, 95, 100, 100, 100],\n",
       " [90, 90, 85, 90, 90, 90, 90, 90, 90, 90],\n",
       " [60, 60, 70, 70, 70, 60, 80, 80, 50, 50],\n",
       " [100, 100, 100, 100, 90, 90, 90, 90, 95, 95],\n",
       " [80, 80, 70, 70, 80, 60, 60, 65, 70, 70],\n",
       " [70, 40, 30, 60, 70, 90, 85, 65, 90, 100],\n",
       " [25, 50, 70, 35, 80, 90, 30, 70, 100, 100],\n",
       " [60, 50, 38, 60, 80, 95, 95, 100, 100, 100],\n",
       " [50, 60, 70, 40, 60, 40, 70, 30, 80, 100],\n",
       " [90, 5, 20, 80, 90, 90, 100, 80, 20, 0],\n",
       " [85, 65, 50, 80, 60, 40, 80, 70, 70, 70],\n",
       " [90, 0, 0, 0, 0, 0, 0, 0, 0, 0],\n",
       " [10, 50, 30, 60, 70, 75, 85, 90, 90, 90],\n",
       " [100, 80, 100, 100, 100, 100, 100, 100, 100, 95],\n",
       " [10, 80, 85, 90, 90, 90, 90, 90, 95, 100],\n",
       " [60, 80, 80, 80, 90, 95, 10, 20, 60, 40],\n",
       " [86, 75, 3, 65, 45, 90, 100, 100, 92, 50],\n",
       " [100, 100, 100, 100, 100, 100, 100, 100, 100, 100],\n",
       " [20, 40, 20, 60, 30, 70, 70, 75, 95, 90],\n",
       " [40, 30, 30, 50, 50, 55, 55, 60, 80, 90],\n",
       " [100, 80, 100, 90, 95, 100, 100, 100, 100, 100],\n",
       " [100, 50, 100, 80, 70, 90, 95, 95, 75, 75],\n",
       " [95, 80, 90, 80, 0, 100, 80, 90, 100, 95],\n",
       " [50, 50, 50, 60, 65, 75, 75, 85, 80, 80],\n",
       " [85, 90, 95, 90, 90, 95, 90, 95, 98, 80],\n",
       " [100, 100, 100, 100, 100, 100, 100, 100, 100, 100],\n",
       " [90, 80, 100, 100, 100, 100, 100, 100, 100, 100],\n",
       " [80, 70, 45, 90, 90, 70, 80, 0, 85, 95],\n",
       " [30, 50, 30, 30, 60, 50, 60, 70, 70, 100]]"
      ]
     },
     "execution_count": 112,
     "metadata": {},
     "output_type": "execute_result"
    }
   ],
   "source": [
    "scalars"
   ]
  },
  {
   "cell_type": "code",
   "execution_count": 111,
   "metadata": {},
   "outputs": [],
   "source": [
    "correlation_scalars_rewards = []\n",
    "correlation_progresses_rewards = [] \n",
    "correlation_progreses_scalars = []\n",
    "correlation_s_non_accumu_rewards = []\n",
    "for i, item in enumerate(cumulative_rewards.values()):\n",
    "    correlation_progresses_rewards.append(stats.pearsonr(item, progresses[i]))\n",
    "    correlation_scalars_rewards.append(stats.pearsonr(item, rescaled_scalars[i]))\n",
    "    correlation_progreses_scalars.append(stats.pearsonr(progresses[i], scalars[i]))\n",
    "    correlation_s_non_accumu_rewards.append(stats.pearsonr(item, scalars[i]))"
   ]
  },
  {
   "cell_type": "code",
   "execution_count": 113,
   "metadata": {},
   "outputs": [
    {
     "data": {
      "text/plain": [
       "<Axes: xlabel='Type', ylabel='Correlation'>"
      ]
     },
     "execution_count": 113,
     "metadata": {},
     "output_type": "execute_result"
    },
    {
     "data": {
      "image/png": "[encoded data removed]",
      "text/plain": [
       "<Figure size 640x480 with 1 Axes>"
      ]
     },
     "metadata": {},
     "output_type": "display_data"
    }
   ],
   "source": [
    "import seaborn as sns\n",
    "import pandas as pd\n",
    "# Combine the two correlation lists into a single dataframe\n",
    "correlation_df = pd.DataFrame({'Correlation': [item[0] for item in correlation_progresses_rewards + correlation_scalars_rewards + correlation_progreses_scalars + correlation_s_non_accumu_rewards],\n",
    "                               'Type': ['Progresses'] * len(correlation_progresses_rewards) + ['Scalars'] * len(correlation_scalars_rewards) + ['S & P'] * len(correlation_progreses_scalars) + ['S'] * len(correlation_s_non_accumu_rewards)})\n",
    "\n",
    "# Draw the violin plot\n",
    "sns.violinplot(x='Type', y='Correlation', data=correlation_df)\n"
   ]
  },
  {
   "cell_type": "code",
   "execution_count": null,
   "metadata": {},
   "outputs": [],
   "source": []
  }
 ],
 "metadata": {
  "kernelspec": {
   "display_name": "RL_Lab",
   "language": "python",
   "name": "python3"
  },
  "language_info": {
   "codemirror_mode": {
    "name": "ipython",
    "version": 3
   },
   "file_extension": ".py",
   "mimetype": "text/x-python",
   "name": "python",
   "nbconvert_exporter": "python",
   "pygments_lexer": "ipython3",
   "version": "3.9.15"
  }
 },
 "nbformat": 4,
 "nbformat_minor": 2
}
