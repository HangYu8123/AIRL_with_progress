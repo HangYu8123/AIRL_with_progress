{
 "cells": [
  {
   "cell_type": "code",
   "execution_count": 12,
   "metadata": {},
   "outputs": [],
   "source": [
    "import torch"
   ]
  },
  {
   "cell_type": "code",
   "execution_count": 17,
   "metadata": {},
   "outputs": [],
   "source": [
    "loaded_state_dict = torch.load('/home/noahfang/Documents/Lab/AIRL_with_progress/replayed_traj/replayed_trajeward_memo.pt')\n",
    "loaded_reward_dict = torch.load('/home/noahfang/Documents/Lab/AIRL_with_progress/replayed_traj/replayed_trajeward_memo.pt')"
   ]
  },
  {
   "cell_type": "code",
   "execution_count": 18,
   "metadata": {},
   "outputs": [
    {
     "name": "stdout",
     "output_type": "stream",
     "text": [
      "2993\n",
      "2993\n"
     ]
    }
   ],
   "source": [
    "print(len(loaded_state_dict[1]))\n",
    "print(len(loaded_reward_dict[1]))"
   ]
  },
  {
   "cell_type": "code",
   "execution_count": 19,
   "metadata": {},
   "outputs": [
    {
     "name": "stdout",
     "output_type": "stream",
     "text": [
      "区间 0 的总reward是: 1349.8370118141174\n",
      "区间 1 的总reward是: 1355.2624696493149\n",
      "区间 2 的总reward是: 1345.7579679489136\n",
      "区间 3 的总reward是: 1344.2462173700333\n",
      "区间 4 的总reward是: 1356.9909915924072\n",
      "区间 5 的总reward是: 1345.381064414978\n",
      "区间 6 的总reward是: 1353.670352101326\n",
      "区间 7 的总reward是: 1359.8852367401123\n",
      "区间 8 的总reward是: 1322.7974271774292\n",
      "区间 9 的总reward是: 1330.29931640625\n"
     ]
    }
   ],
   "source": [
    "# 假设loaded_state_dict和loaded_reward_dict已经被加载\n",
    "# 并且它们的键和长度匹配\n",
    "\n",
    "# 选择任一字典中的一个键来获取长度\n",
    "key = next(iter(loaded_state_dict))\n",
    "total_length = len(loaded_state_dict[key])\n",
    "size = total_length // 10\n",
    "\n",
    "# 用来存储每个区间的总reward\n",
    "interval_rewards = []\n",
    "\n",
    "# 遍历每个区间\n",
    "for i in range(10):\n",
    "    interval_sum = 0\n",
    "    # 对于每个键，将该区间内的reward相加\n",
    "    for k in loaded_reward_dict:\n",
    "        interval_sum += sum(loaded_reward_dict[k][i*size:(i+1)*size])\n",
    "    interval_rewards.append(interval_sum)\n",
    "\n",
    "# 打印结果\n",
    "for idx, total_reward in enumerate(interval_rewards):\n",
    "    print(f\"区间 {idx} 的总reward是: {total_reward}, 区间{idx}的总长度是: {size}\")\n"
   ]
  },
  {
   "cell_type": "code",
   "execution_count": null,
   "metadata": {},
   "outputs": [],
   "source": []
  }
 ],
 "metadata": {
  "kernelspec": {
   "display_name": "RL_Lab",
   "language": "python",
   "name": "python3"
  },
  "language_info": {
   "codemirror_mode": {
    "name": "ipython",
    "version": 3
   },
   "file_extension": ".py",
   "mimetype": "text/x-python",
   "name": "python",
   "nbconvert_exporter": "python",
   "pygments_lexer": "ipython3",
   "version": "3.8.18"
  }
 },
 "nbformat": 4,
 "nbformat_minor": 2
}
