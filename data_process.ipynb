{
 "cells": [
  {
   "cell_type": "code",
   "execution_count": 45,
   "metadata": {},
   "outputs": [],
   "source": [
    "import torch\n",
    "import matplotlib.pyplot as plt\n",
    "#head files for data analysis\n",
    "import pandas as pd\n",
    "import numpy as np\n",
    "import matplotlib.pyplot as plt\n",
    "import seaborn as sns\n",
    "import os\n",
    "import scipy.stats as stats\n",
    "from mpl_toolkits.mplot3d import Axes3D"
   ]
  },
  {
   "cell_type": "code",
   "execution_count": 46,
   "metadata": {},
   "outputs": [],
   "source": [
    "loaded_reward_dict = torch.load('/home/noahfang/Documents/Lab/AIRL_with_progress/replayed_traj/disc_cal_reward_memo.pt')\n",
    "loaded_reward_dict = {k: v for k, v in loaded_reward_dict.items() if v}"
   ]
  },
  {
   "cell_type": "code",
   "execution_count": 47,
   "metadata": {},
   "outputs": [],
   "source": [
    "# 计算每个键的总reward\n",
    "total_rewards_per_key = {key: sum(rewards) for key, rewards in loaded_reward_dict.items()}"
   ]
  },
  {
   "cell_type": "code",
   "execution_count": 48,
   "metadata": {},
   "outputs": [
    {
     "name": "stdout",
     "output_type": "stream",
     "text": [
      "34\n",
      "34\n",
      "34\n",
      "34\n",
      "[3, 4, 5, 6, 7, 8, 9, 10, 11, 12, 14, 15, 16, 17, 18, 19, 20, 21, 22, 23, 24, 25, 26, 27, 28, 29, 30, 31, 32, 33, 34, 35, 36, 38]\n"
     ]
    }
   ],
   "source": [
    "# read trajectories from folder bags\n",
    "\n",
    "nop = 40\n",
    "trajectories = []\n",
    "progresses = []\n",
    "steps = []\n",
    "scalars = []\n",
    "ind = []\n",
    "\n",
    "for i in range(nop):\n",
    "    traj = []\n",
    "    step = []\n",
    "    progress = []\n",
    "    scalar = []\n",
    "    \n",
    "    pose_path = \"/home/noahfang/Documents//Lab/LfD_with_porgress-master/bags/user_\"+str(i)+\"/0_poses.txt\"\n",
    "    step_path = \"/home/noahfang/Documents//Lab/LfD_with_porgress-master/bags/user_\"+str(i)+\"/0_step.txt\"\n",
    "    progress_path = \"/home/noahfang/Documents//Lab/LfD_with_porgress-master/bags/user_\"+str(i)+\"/0_progress.txt\"\n",
    "    scalar_path = \"/home/noahfang/Documents//Lab/LfD_with_porgress-master/bags/user_\"+str(i)+\"/0_scalar.txt\"\n",
    "    if not os.path.exists(pose_path) or not os.path.exists(step_path) or not os.path.exists(progress_path) or not os.path.exists(scalar_path):\n",
    "        continue\n",
    "    ind.append(i)\n",
    "    with open(pose_path, 'r') as file:\n",
    "        for line in file:\n",
    "            x, y, z = map(float, line.strip().split())\n",
    "            traj.append([x, y, z])\n",
    "    trajectories.append(traj)\n",
    "\n",
    "    with open(step_path, 'r') as file:\n",
    "        for line in file:\n",
    "            step.append(int(line.strip()))\n",
    "    steps.append(step)\n",
    "\n",
    "    with open(progress_path, 'r') as file:\n",
    "        for line in file:\n",
    "            progress.append(int(line.strip()))\n",
    "    progresses.append(progress)\n",
    "\n",
    "    with open(scalar_path, 'r') as file:\n",
    "        for line in file:\n",
    "            scalar.append(int(line.strip()))\n",
    "    scalars.append(scalar)\n",
    "\n",
    "    \n",
    "print(len(trajectories))\n",
    "print(len(progresses))\n",
    "print(len(steps))\n",
    "print(len(scalars))\n",
    "print(ind)"
   ]
  },
  {
   "cell_type": "code",
   "execution_count": 49,
   "metadata": {},
   "outputs": [],
   "source": [
    "cumulative_rewards = {}\n",
    "for key in ind:\n",
    "    # 计算每个size/10的reward总和\n",
    "    total_length = len(loaded_reward_dict[key]) # 计算reward总长度\n",
    "    size = total_length // 10  # 计算每个区间的大小\n",
    "    cumulative_rewards[key] = [0] * 10  # 初始化累计奖励列表\n",
    "    # 计算该key的总reward\n",
    "    total_reward = total_rewards_per_key[key]\n",
    "    # 累计计算每个区间的reward总和\n",
    "    for i in range(10):\n",
    "        interval_sum = 0\n",
    "        # 对于每个键，计算该区间内的reward总和\n",
    "        interval_sum += sum(loaded_reward_dict[key][i*size:(i+1)*size])\n",
    "        cumulative_rewards[key][i] = interval_sum if i == 0 else cumulative_rewards[key][i-1] + interval_sum\n",
    "    # 设置图形的横纵坐标值\n",
    "    intervals = [(i+1) for i in range(10)]\n",
    "    cumulative_rewards[key] = [cumulative_rewards[key][i] for i in range(10)]\n"
   ]
  },
  {
   "cell_type": "code",
   "execution_count": 50,
   "metadata": {},
   "outputs": [],
   "source": [
    "cumulative_rewards = {key: [(value - min(cumulative_rewards[key])) / (max(cumulative_rewards[key]) - min(cumulative_rewards[key])) * 100 for value in cumulative_rewards[key]] for key in cumulative_rewards}\n"
   ]
  },
  {
   "cell_type": "code",
   "execution_count": 52,
   "metadata": {},
   "outputs": [
    {
     "name": "stdout",
     "output_type": "stream",
     "text": [
      "{3: [tensor([0.]), tensor([10.8770]), tensor([22.2027]), tensor([33.9478]), tensor([45.2972]), tensor([56.7129]), tensor([67.9574]), tensor([78.7254]), tensor([89.7292]), tensor([100.])], 4: [tensor([0.]), tensor([11.1140]), tensor([22.3645]), tensor([33.5037]), tensor([44.4054]), tensor([55.7698]), tensor([67.0598]), tensor([78.2265]), tensor([89.0615]), tensor([100.])], 5: [tensor([0.]), tensor([10.9735]), tensor([21.7832]), tensor([32.8773]), tensor([44.4606]), tensor([56.1479]), tensor([67.3616]), tensor([78.5699]), tensor([89.3844]), tensor([100.])], 6: [tensor([0.]), tensor([11.1641]), tensor([22.0404]), tensor([32.9036]), tensor([44.1692]), tensor([55.2562]), tensor([66.4989]), tensor([77.6016]), tensor([88.8804]), tensor([100.])], 7: [tensor([0.]), tensor([11.4913]), tensor([23.0942]), tensor([34.0749]), tensor([44.9437]), tensor([55.8686]), tensor([66.6954]), tensor([78.1484]), tensor([89.3988]), tensor([100.])], 8: [tensor([0.]), tensor([11.3171]), tensor([22.8910]), tensor([33.9747]), tensor([45.2330]), tensor([56.5094]), tensor([67.5560]), tensor([78.8885]), tensor([89.2640]), tensor([100.])], 9: [tensor([0.]), tensor([10.9124]), tensor([21.5944]), tensor([32.9113]), tensor([44.0093]), tensor([55.5715]), tensor([67.0108]), tensor([77.9069]), tensor([88.6779]), tensor([100.])], 10: [tensor([0.]), tensor([10.6998]), tensor([21.7309]), tensor([32.5490]), tensor([43.9201]), tensor([55.0061]), tensor([65.9992]), tensor([77.0258]), tensor([88.7139]), tensor([100.])], 11: [tensor([0.]), tensor([10.4222]), tensor([21.4374]), tensor([32.6030]), tensor([44.1438]), tensor([54.7598]), tensor([66.1806]), tensor([77.4343]), tensor([88.9785]), tensor([100.])], 12: [tensor([0.]), tensor([11.2268]), tensor([22.8873]), tensor([33.9992]), tensor([45.2143]), tensor([56.7910]), tensor([67.6248]), tensor([77.5572]), tensor([88.9858]), tensor([100.])], 14: [tensor([0.]), tensor([10.8639]), tensor([22.1053]), tensor([33.5685]), tensor([44.1902]), tensor([55.7273]), tensor([66.8534]), tensor([78.3295]), tensor([89.4223]), tensor([100.])], 15: [tensor([0.]), tensor([11.2100]), tensor([21.9727]), tensor([33.3955]), tensor([44.3265]), tensor([55.0762]), tensor([66.6857]), tensor([77.8335]), tensor([88.7284]), tensor([100.])], 16: [tensor([0.]), tensor([11.1065]), tensor([22.1811]), tensor([33.5866]), tensor([44.1059]), tensor([55.4396]), tensor([66.5243]), tensor([77.4771]), tensor([88.7632]), tensor([100.])], 17: [tensor([0.]), tensor([10.7223]), tensor([22.1633]), tensor([33.4682]), tensor([44.7629]), tensor([55.7873]), tensor([66.5710]), tensor([77.8307]), tensor([89.0125]), tensor([100.])], 18: [tensor([0.]), tensor([11.2368]), tensor([22.4574]), tensor([33.6503]), tensor([44.9811]), tensor([56.3375]), tensor([67.3189]), tensor([77.9530]), tensor([89.7289]), tensor([100.])], 19: [tensor([0.]), tensor([10.9111]), tensor([21.2722]), tensor([32.4161]), tensor([44.3042]), tensor([55.9274]), tensor([67.5322]), tensor([78.9617]), tensor([89.8423]), tensor([100.])], 20: [tensor([0.]), tensor([9.9738]), tensor([20.7998]), tensor([32.4405]), tensor([43.8650]), tensor([54.5713]), tensor([65.2510]), tensor([77.5065]), tensor([88.9505]), tensor([100.])], 21: [tensor([0.]), tensor([10.8632]), tensor([21.2598]), tensor([32.8067]), tensor([44.4796]), tensor([55.9467]), tensor([66.7780]), tensor([77.2139]), tensor([88.8807]), tensor([100.])], 22: [tensor([0.]), tensor([10.6547]), tensor([21.6100]), tensor([33.3520]), tensor([44.6456]), tensor([55.4528]), tensor([67.0126]), tensor([78.1266]), tensor([89.1845]), tensor([100.])], 23: [tensor([0.]), tensor([11.3305]), tensor([22.8581]), tensor([34.2284]), tensor([45.6532]), tensor([56.2740]), tensor([67.6734]), tensor([78.3093]), tensor([88.7759]), tensor([100.])], 24: [tensor([0.]), tensor([11.2872]), tensor([22.1119]), tensor([32.9007]), tensor([43.7917]), tensor([54.7957]), tensor([65.9073]), tensor([77.3934]), tensor([88.4915]), tensor([100.])], 25: [tensor([0.]), tensor([11.2223]), tensor([22.3580]), tensor([33.3305]), tensor([44.3811]), tensor([55.7134]), tensor([67.1318]), tensor([78.0869]), tensor([88.8522]), tensor([100.])], 26: [tensor([0.]), tensor([11.2182]), tensor([22.4997]), tensor([33.4129]), tensor([44.8988]), tensor([56.5238]), tensor([67.1133]), tensor([78.5892]), tensor([89.0099]), tensor([100.])], 27: [tensor([0.]), tensor([11.2420]), tensor([21.8894]), tensor([33.2461]), tensor([44.3477]), tensor([55.7078]), tensor([66.4507]), tensor([77.3427]), tensor([89.0679]), tensor([100.])], 28: [tensor([0.]), tensor([10.0917]), tensor([21.2906]), tensor([32.5935]), tensor([43.5451]), tensor([54.8930]), tensor([65.8580]), tensor([77.4957]), tensor([88.8309]), tensor([100.])], 29: [tensor([0.]), tensor([11.2607]), tensor([21.2113]), tensor([32.5213]), tensor([44.1213]), tensor([55.6904]), tensor([67.0104]), tensor([78.5750]), tensor([89.4962]), tensor([100.])], 30: [tensor([0.]), tensor([11.1414]), tensor([21.9223]), tensor([33.1122]), tensor([44.5064]), tensor([55.5455]), tensor([66.4482]), tensor([77.7963]), tensor([88.7571]), tensor([100.])], 31: [tensor([0.]), tensor([10.3208]), tensor([21.4386]), tensor([32.5444]), tensor([43.8071]), tensor([54.9312]), tensor([66.2190]), tensor([77.5099]), tensor([88.3377]), tensor([100.])], 32: [tensor([0.]), tensor([11.2740]), tensor([22.4684]), tensor([33.8409]), tensor([45.2350]), tensor([56.4124]), tensor([67.2711]), tensor([78.0865]), tensor([89.0623]), tensor([100.])], 33: [tensor([0.]), tensor([11.3868]), tensor([22.3962]), tensor([33.5405]), tensor([44.4972]), tensor([55.3931]), tensor([67.1564]), tensor([78.5074]), tensor([89.1235]), tensor([100.])], 34: [tensor([0.]), tensor([11.5507]), tensor([22.5691]), tensor([33.3964]), tensor([44.8265]), tensor([55.6696]), tensor([66.3727]), tensor([77.7482]), tensor([89.1635]), tensor([100.])], 35: [tensor([0.]), tensor([11.4228]), tensor([22.4821]), tensor([33.8730]), tensor([44.6135]), tensor([56.0314]), tensor([67.3909]), tensor([78.2119]), tensor([89.0525]), tensor([100.])], 36: [tensor([0.]), tensor([9.9599]), tensor([21.0224]), tensor([31.9181]), tensor([42.8579]), tensor([54.6706]), tensor([66.1399]), tensor([77.4332]), tensor([88.5471]), tensor([100.])], 38: [tensor([0.]), tensor([10.3600]), tensor([21.4232]), tensor([32.5275]), tensor([43.9406]), tensor([55.0261]), tensor([65.5584]), tensor([76.8095]), tensor([88.3639]), tensor([100.])]}\n"
     ]
    }
   ],
   "source": [
    "print(cumulative_rewards)"
   ]
  },
  {
   "cell_type": "code",
   "execution_count": 51,
   "metadata": {},
   "outputs": [
    {
     "name": "stderr",
     "output_type": "stream",
     "text": [
      "/opt/ros/noetic/lib/python3/dist-packages/numpy/core/shape_base.py:65: FutureWarning: The input object of type 'Tensor' is an array-like implementing one of the corresponding protocols (`__array__`, `__array_interface__` or `__array_struct__`); but not a sequence (or 0-D). In the future, this object will be coerced as if it was first converted using `np.array(obj)`. To retain the old behaviour, you have to either modify the type 'Tensor', or assign to an empty array created with `np.empty(correct_shape, dtype=object)`.\n",
      "  ary = asanyarray(ary)\n"
     ]
    },
    {
     "ename": "ValueError",
     "evalue": "setting an array element with a sequence. The requested array has an inhomogeneous shape after 1 dimensions. The detected shape was (10,) + inhomogeneous part.",
     "output_type": "error",
     "traceback": [
      "\u001b[0;31m---------------------------------------------------------------------------\u001b[0m",
      "\u001b[0;31mValueError\u001b[0m                                Traceback (most recent call last)",
      "\u001b[1;32m/home/noahfang/Documents/Lab/AIRL_with_progress/data_process.ipynb Cell 7\u001b[0m line \u001b[0;36m3\n\u001b[1;32m      <a href='vscode-notebook-cell:/home/noahfang/Documents/Lab/AIRL_with_progress/data_process.ipynb#W6sZmlsZQ%3D%3D?line=0'>1</a>\u001b[0m \u001b[39mfor\u001b[39;00m i, item \u001b[39min\u001b[39;00m \u001b[39menumerate\u001b[39m(cumulative_rewards\u001b[39m.\u001b[39mvalues()):\n\u001b[1;32m      <a href='vscode-notebook-cell:/home/noahfang/Documents/Lab/AIRL_with_progress/data_process.ipynb#W6sZmlsZQ%3D%3D?line=1'>2</a>\u001b[0m     intervals \u001b[39m=\u001b[39m [(i\u001b[39m+\u001b[39m\u001b[39m1\u001b[39m) \u001b[39mfor\u001b[39;00m i \u001b[39min\u001b[39;00m \u001b[39mrange\u001b[39m(\u001b[39m10\u001b[39m)]\n\u001b[0;32m----> <a href='vscode-notebook-cell:/home/noahfang/Documents/Lab/AIRL_with_progress/data_process.ipynb#W6sZmlsZQ%3D%3D?line=2'>3</a>\u001b[0m     plt\u001b[39m.\u001b[39;49mplot(intervals, item, marker\u001b[39m=\u001b[39;49m\u001b[39m'\u001b[39;49m\u001b[39mo\u001b[39;49m\u001b[39m'\u001b[39;49m, label\u001b[39m=\u001b[39;49m\u001b[39m'\u001b[39;49m\u001b[39mCumulative Rewards\u001b[39;49m\u001b[39m'\u001b[39;49m)  \n\u001b[1;32m      <a href='vscode-notebook-cell:/home/noahfang/Documents/Lab/AIRL_with_progress/data_process.ipynb#W6sZmlsZQ%3D%3D?line=3'>4</a>\u001b[0m     plt\u001b[39m.\u001b[39mplot(intervals, progresses[i], marker\u001b[39m=\u001b[39m\u001b[39m'\u001b[39m\u001b[39mo\u001b[39m\u001b[39m'\u001b[39m, label\u001b[39m=\u001b[39m\u001b[39m'\u001b[39m\u001b[39mProgress\u001b[39m\u001b[39m'\u001b[39m)  \n\u001b[1;32m      <a href='vscode-notebook-cell:/home/noahfang/Documents/Lab/AIRL_with_progress/data_process.ipynb#W6sZmlsZQ%3D%3D?line=4'>5</a>\u001b[0m     plt\u001b[39m.\u001b[39mplot(intervals, scalars[i], marker\u001b[39m=\u001b[39m\u001b[39m'\u001b[39m\u001b[39mo\u001b[39m\u001b[39m'\u001b[39m, label\u001b[39m=\u001b[39m\u001b[39m'\u001b[39m\u001b[39mScalars\u001b[39m\u001b[39m'\u001b[39m)  \n",
      "File \u001b[0;32m~/miniconda3/envs/RL_Lab/lib/python3.8/site-packages/matplotlib/pyplot.py:2812\u001b[0m, in \u001b[0;36mplot\u001b[0;34m(scalex, scaley, data, *args, **kwargs)\u001b[0m\n\u001b[1;32m   2810\u001b[0m \u001b[39m@_copy_docstring_and_deprecators\u001b[39m(Axes\u001b[39m.\u001b[39mplot)\n\u001b[1;32m   2811\u001b[0m \u001b[39mdef\u001b[39;00m \u001b[39mplot\u001b[39m(\u001b[39m*\u001b[39margs, scalex\u001b[39m=\u001b[39m\u001b[39mTrue\u001b[39;00m, scaley\u001b[39m=\u001b[39m\u001b[39mTrue\u001b[39;00m, data\u001b[39m=\u001b[39m\u001b[39mNone\u001b[39;00m, \u001b[39m*\u001b[39m\u001b[39m*\u001b[39mkwargs):\n\u001b[0;32m-> 2812\u001b[0m     \u001b[39mreturn\u001b[39;00m gca()\u001b[39m.\u001b[39;49mplot(\n\u001b[1;32m   2813\u001b[0m         \u001b[39m*\u001b[39;49margs, scalex\u001b[39m=\u001b[39;49mscalex, scaley\u001b[39m=\u001b[39;49mscaley,\n\u001b[1;32m   2814\u001b[0m         \u001b[39m*\u001b[39;49m\u001b[39m*\u001b[39;49m({\u001b[39m\"\u001b[39;49m\u001b[39mdata\u001b[39;49m\u001b[39m\"\u001b[39;49m: data} \u001b[39mif\u001b[39;49;00m data \u001b[39mis\u001b[39;49;00m \u001b[39mnot\u001b[39;49;00m \u001b[39mNone\u001b[39;49;00m \u001b[39melse\u001b[39;49;00m {}), \u001b[39m*\u001b[39;49m\u001b[39m*\u001b[39;49mkwargs)\n",
      "File \u001b[0;32m~/miniconda3/envs/RL_Lab/lib/python3.8/site-packages/matplotlib/axes/_axes.py:1688\u001b[0m, in \u001b[0;36mAxes.plot\u001b[0;34m(self, scalex, scaley, data, *args, **kwargs)\u001b[0m\n\u001b[1;32m   1445\u001b[0m \u001b[39m\u001b[39m\u001b[39m\"\"\"\u001b[39;00m\n\u001b[1;32m   1446\u001b[0m \u001b[39mPlot y versus x as lines and/or markers.\u001b[39;00m\n\u001b[1;32m   1447\u001b[0m \n\u001b[0;32m   (...)\u001b[0m\n\u001b[1;32m   1685\u001b[0m \u001b[39m(``'green'``) or hex strings (``'#008000'``).\u001b[39;00m\n\u001b[1;32m   1686\u001b[0m \u001b[39m\"\"\"\u001b[39;00m\n\u001b[1;32m   1687\u001b[0m kwargs \u001b[39m=\u001b[39m cbook\u001b[39m.\u001b[39mnormalize_kwargs(kwargs, mlines\u001b[39m.\u001b[39mLine2D)\n\u001b[0;32m-> 1688\u001b[0m lines \u001b[39m=\u001b[39m [\u001b[39m*\u001b[39m\u001b[39mself\u001b[39m\u001b[39m.\u001b[39m_get_lines(\u001b[39m*\u001b[39margs, data\u001b[39m=\u001b[39mdata, \u001b[39m*\u001b[39m\u001b[39m*\u001b[39mkwargs)]\n\u001b[1;32m   1689\u001b[0m \u001b[39mfor\u001b[39;00m line \u001b[39min\u001b[39;00m lines:\n\u001b[1;32m   1690\u001b[0m     \u001b[39mself\u001b[39m\u001b[39m.\u001b[39madd_line(line)\n",
      "File \u001b[0;32m~/miniconda3/envs/RL_Lab/lib/python3.8/site-packages/matplotlib/axes/_base.py:311\u001b[0m, in \u001b[0;36m_process_plot_var_args.__call__\u001b[0;34m(self, data, *args, **kwargs)\u001b[0m\n\u001b[1;32m    309\u001b[0m     this \u001b[39m+\u001b[39m\u001b[39m=\u001b[39m args[\u001b[39m0\u001b[39m],\n\u001b[1;32m    310\u001b[0m     args \u001b[39m=\u001b[39m args[\u001b[39m1\u001b[39m:]\n\u001b[0;32m--> 311\u001b[0m \u001b[39myield from\u001b[39;00m \u001b[39mself\u001b[39;49m\u001b[39m.\u001b[39;49m_plot_args(\n\u001b[1;32m    312\u001b[0m     this, kwargs, ambiguous_fmt_datakey\u001b[39m=\u001b[39;49mambiguous_fmt_datakey)\n",
      "File \u001b[0;32m~/miniconda3/envs/RL_Lab/lib/python3.8/site-packages/matplotlib/axes/_base.py:494\u001b[0m, in \u001b[0;36m_process_plot_var_args._plot_args\u001b[0;34m(self, tup, kwargs, return_kwargs, ambiguous_fmt_datakey)\u001b[0m\n\u001b[1;32m    492\u001b[0m \u001b[39mif\u001b[39;00m \u001b[39mlen\u001b[39m(xy) \u001b[39m==\u001b[39m \u001b[39m2\u001b[39m:\n\u001b[1;32m    493\u001b[0m     x \u001b[39m=\u001b[39m _check_1d(xy[\u001b[39m0\u001b[39m])\n\u001b[0;32m--> 494\u001b[0m     y \u001b[39m=\u001b[39m _check_1d(xy[\u001b[39m1\u001b[39;49m])\n\u001b[1;32m    495\u001b[0m \u001b[39melse\u001b[39;00m:\n\u001b[1;32m    496\u001b[0m     x, y \u001b[39m=\u001b[39m index_of(xy[\u001b[39m-\u001b[39m\u001b[39m1\u001b[39m])\n",
      "File \u001b[0;32m~/miniconda3/envs/RL_Lab/lib/python3.8/site-packages/matplotlib/cbook/__init__.py:1358\u001b[0m, in \u001b[0;36m_check_1d\u001b[0;34m(x)\u001b[0m\n\u001b[1;32m   1352\u001b[0m \u001b[39m# plot requires `shape` and `ndim`.  If passed an\u001b[39;00m\n\u001b[1;32m   1353\u001b[0m \u001b[39m# object that doesn't provide them, then force to numpy array.\u001b[39;00m\n\u001b[1;32m   1354\u001b[0m \u001b[39m# Note this will strip unit information.\u001b[39;00m\n\u001b[1;32m   1355\u001b[0m \u001b[39mif\u001b[39;00m (\u001b[39mnot\u001b[39;00m \u001b[39mhasattr\u001b[39m(x, \u001b[39m'\u001b[39m\u001b[39mshape\u001b[39m\u001b[39m'\u001b[39m) \u001b[39mor\u001b[39;00m\n\u001b[1;32m   1356\u001b[0m         \u001b[39mnot\u001b[39;00m \u001b[39mhasattr\u001b[39m(x, \u001b[39m'\u001b[39m\u001b[39mndim\u001b[39m\u001b[39m'\u001b[39m) \u001b[39mor\u001b[39;00m\n\u001b[1;32m   1357\u001b[0m         \u001b[39mlen\u001b[39m(x\u001b[39m.\u001b[39mshape) \u001b[39m<\u001b[39m \u001b[39m1\u001b[39m):\n\u001b[0;32m-> 1358\u001b[0m     \u001b[39mreturn\u001b[39;00m np\u001b[39m.\u001b[39;49matleast_1d(x)\n\u001b[1;32m   1359\u001b[0m \u001b[39melse\u001b[39;00m:\n\u001b[1;32m   1360\u001b[0m     \u001b[39mreturn\u001b[39;00m x\n",
      "File \u001b[0;32m<__array_function__ internals>:200\u001b[0m, in \u001b[0;36matleast_1d\u001b[0;34m(*args, **kwargs)\u001b[0m\n",
      "File \u001b[0;32m/opt/ros/noetic/lib/python3/dist-packages/numpy/core/shape_base.py:65\u001b[0m, in \u001b[0;36matleast_1d\u001b[0;34m(*arys)\u001b[0m\n\u001b[1;32m     63\u001b[0m res \u001b[39m=\u001b[39m []\n\u001b[1;32m     64\u001b[0m \u001b[39mfor\u001b[39;00m ary \u001b[39min\u001b[39;00m arys:\n\u001b[0;32m---> 65\u001b[0m     ary \u001b[39m=\u001b[39m asanyarray(ary)\n\u001b[1;32m     66\u001b[0m     \u001b[39mif\u001b[39;00m ary\u001b[39m.\u001b[39mndim \u001b[39m==\u001b[39m \u001b[39m0\u001b[39m:\n\u001b[1;32m     67\u001b[0m         result \u001b[39m=\u001b[39m ary\u001b[39m.\u001b[39mreshape(\u001b[39m1\u001b[39m)\n",
      "\u001b[0;31mValueError\u001b[0m: setting an array element with a sequence. The requested array has an inhomogeneous shape after 1 dimensions. The detected shape was (10,) + inhomogeneous part."
     ]
    },
    {
     "data": {
      "image/png": "[encoded data removed]",
      "text/plain": [
       "<Figure size 640x480 with 1 Axes>"
      ]
     },
     "metadata": {},
     "output_type": "display_data"
    }
   ],
   "source": [
    "for i, item in enumerate(cumulative_rewards.values()):\n",
    "    intervals = [(i+1) for i in range(10)]\n",
    "    plt.plot(intervals, item, marker='o', label='Cumulative Rewards')  \n",
    "    plt.plot(intervals, progresses[i], marker='o', label='Progress')  \n",
    "    plt.plot(intervals, scalars[i], marker='o', label='Scalars')  \n",
    "    plt.title('Cumulative Reward per Interval')\n",
    "    plt.xlabel('Steps')\n",
    "    plt.ylabel('Cumulative Reward')\n",
    "    plt.legend()\n",
    "    plt.grid(True)\n",
    "    plt.savefig(f'./fig/disc_calculated_reward_ppo/user_{i}.png')\n",
    "    plt.show()"
   ]
  },
  {
   "cell_type": "code",
   "execution_count": null,
   "metadata": {},
   "outputs": [],
   "source": []
  }
 ],
 "metadata": {
  "kernelspec": {
   "display_name": "RL_Lab",
   "language": "python",
   "name": "python3"
  },
  "language_info": {
   "codemirror_mode": {
    "name": "ipython",
    "version": 3
   },
   "file_extension": ".py",
   "mimetype": "text/x-python",
   "name": "python",
   "nbconvert_exporter": "python",
   "pygments_lexer": "ipython3",
   "version": "3.8.18"
  }
 },
 "nbformat": 4,
 "nbformat_minor": 2
}
