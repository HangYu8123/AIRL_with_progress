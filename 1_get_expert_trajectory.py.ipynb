{
 "cells": [
  {
   "cell_type": "code",
   "execution_count": 4,
   "metadata": {},
   "outputs": [
    {
     "name": "stdout",
     "output_type": "stream",
     "text": [
      "0\n"
     ]
    }
   ],
   "source": [
    "#! /home/nvidia/mambaforge/envs/guidedog/bin/python\n",
    "# -*- encoding: utf-8 -*-\n",
    "'''\n",
    "@File    :   Untitled-1.ipynb\n",
    "@Time    :   2024/02/18 13:05:13\n",
    "@Author  :   Noah.Fang \n",
    "@Contact :   kidyf_1205@163.com\n",
    "@WebSite :   ...\n",
    "'''\n",
    "import rosbag\n",
    "import numpy\n"
   ]
  },
  {
   "cell_type": "code",
   "execution_count": 3,
   "metadata": {},
   "outputs": [],
   "source": [
    "\"\"\"\n",
    "MDP:\n",
    "    1. \n",
    "        Oberservation Space:\n",
    "            jar_position: [3x1] (relative to robo_base)这个怎么得到？\n",
    "            joint_position: [6x1]\n",
    "            gripper_state: [4x1] -> [1x1] 这个怎么转换？\n",
    "            icecream_position: [3x1] (relative to robo_base)这个怎么得到？\n",
    "        Action Space:\n",
    "            joint_position: [6x1]\n",
    "            gripper_state: [4x1] -> [1x1]\n",
    "    2.\n",
    "        Oberservation Space:\n",
    "            jar_position: [3x1] (relative to ice_cream pos?) \n",
    "            cartesion_position: [3x1]\n",
    "            gripper_state: [4x1] -> [1x1] \n",
    "        Action Space:\n",
    "            cartesion_position: [3x1]\n",
    "            gripper_state: [4x1] -> [1x1]\n",
    "\"\"\"\n",
    "\n",
    "observation_space = 16\n",
    "action_space = 10\n",
    "\n",
    "observations = []\n",
    "actions = []\n",
    "next_observations = []\n"
   ]
  },
  {
   "cell_type": "code",
   "execution_count": null,
   "metadata": {},
   "outputs": [],
   "source": [
    "jar_pos = []\n",
    "icecream_pos = []\n",
    "# 怎么得到起始位置的jar和icecream的坐标\n",
    "bag_path = '/Users/noahf/Documents/LAB/AABL/data/bags/user_9/0.bag'  # 替换为你的bag文件路径\n",
    "\n",
    "try:\n",
    "    with rosbag.Bag(bag_path, 'r') as bag:  # 打开bag文件进行读取\n",
    "        for i, (topic, msg, t) in enumerate(bag.read_messages()):\n",
    "            \n",
    "            break\n",
    "except Exception as e:\n",
    "    print(\"Error reading bag file: \", e)\n"
   ]
  }
 ],
 "metadata": {
  "kernelspec": {
   "display_name": "ROS",
   "language": "python",
   "name": "python3"
  },
  "language_info": {
   "codemirror_mode": {
    "name": "ipython",
    "version": 3
   },
   "file_extension": ".py",
   "mimetype": "text/x-python",
   "name": "python",
   "nbconvert_exporter": "python",
   "pygments_lexer": "ipython3",
   "version": "3.9.15"
  }
 },
 "nbformat": 4,
 "nbformat_minor": 2
}
