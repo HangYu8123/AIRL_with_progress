{
 "cells": [
  {
   "cell_type": "code",
   "execution_count": 2,
   "metadata": {},
   "outputs": [
    {
     "ename": "ImportError",
     "evalue": "attempted relative import with no known parent package",
     "output_type": "error",
     "traceback": [
      "\u001b[0;31m---------------------------------------------------------------------------\u001b[0m",
      "\u001b[0;31mImportError\u001b[0m                               Traceback (most recent call last)",
      "Cell \u001b[0;32mIn[2], line 13\u001b[0m\n\u001b[1;32m     11\u001b[0m \u001b[38;5;28;01mimport\u001b[39;00m \u001b[38;5;21;01mnumpy\u001b[39;00m \u001b[38;5;28;01mas\u001b[39;00m \u001b[38;5;21;01mnp\u001b[39;00m\n\u001b[1;32m     12\u001b[0m \u001b[38;5;28;01mimport\u001b[39;00m \u001b[38;5;21;01mtorch\u001b[39;00m\n\u001b[0;32m---> 13\u001b[0m \u001b[38;5;28;01mfrom\u001b[39;00m \u001b[38;5;21;01m.\u001b[39;00m\u001b[38;5;21;01mbuffer\u001b[39;00m \u001b[38;5;28;01mimport\u001b[39;00m Buffer\n\u001b[1;32m     14\u001b[0m \u001b[38;5;28;01mfrom\u001b[39;00m \u001b[38;5;21;01m.\u001b[39;00m\u001b[38;5;21;01mdemo_preprocess\u001b[39;00m \u001b[38;5;28;01mimport\u001b[39;00m \u001b[38;5;241m*\u001b[39m\n",
      "\u001b[0;31mImportError\u001b[0m: attempted relative import with no known parent package"
     ]
    }
   ],
   "source": [
    "#! /home/nvidia/mambaforge/envs/guidedog/bin/python\n",
    "# -*- encoding: utf-8 -*-\n",
    "'''\n",
    "@File    :   Untitled-1.ipynb\n",
    "@Time    :   2024/02/18 13:05:13\n",
    "@Author  :   Noah.Fang \n",
    "@Contact :   kidyf_1205@163.com\n",
    "@WebSite :   ...\n",
    "'''\n",
    "from tqdm import tqdm\n",
    "import numpy as np\n",
    "import torch\n",
    "from .buffer import Buffer\n",
    "from .demo_preprocess import *\n"
   ]
  },
  {
   "cell_type": "markdown",
   "metadata": {},
   "source": [
    "### 定义MDP，解析expert trajectories并存入buffer"
   ]
  },
  {
   "cell_type": "code",
   "execution_count": 5,
   "metadata": {},
   "outputs": [
    {
     "name": "stdout",
     "output_type": "stream",
     "text": [
      "Expert-trajectories fetched, current buffer size is 9299\n"
     ]
    }
   ],
   "source": [
    "\"\"\"\n",
    "MDP:\n",
    "    1. \n",
    "        Oberservation Space:\n",
    "            jar_position: [3x1] (relative to robo_base)这个怎么得到？\n",
    "            joint_position: [6x1]\n",
    "            gripper_state: [4x1] -> [1x1] 这个怎么转换？\n",
    "            icecream_position: [3x1] (relative to robo_base)这个怎么得到？\n",
    "        Action Space:\n",
    "            joint_position: [6x1]\n",
    "            gripper_state: [4x1] -> [1x1]\n",
    "    2.\n",
    "        Oberservation Space:\n",
    "            jar_position: [3x1] (relative to ice_cream pos?) \n",
    "            cartesion_position: [3x1]\n",
    "            gripper_state: [4x1] -> [1x1] \n",
    "        Action Space:\n",
    "            cartesion_position: [3x1]\n",
    "            gripper_state: [4x1] -> [1x1]\n",
    "\"\"\"\n",
    "observation_space = 7\n",
    "action_space = 7\n",
    "buffer = SimpleReplayBuffer(observation_space,action_space,10000)\n",
    "# cup_idx_list = read_cup_index_from_csv(\"/home/hang/catkin_ws/src/ldf_with_progress/BC/participant_sheet.csv\")\n",
    "cup_idx_list = [2] * 26\n",
    "file_path = \"/Users/noahf/Documents/LAB/AABL/data/bags/\"\n",
    "bag_file_list = get_all_bag_files(file_path) # 这里bc_utils.py有个小错误\n",
    "msg_list = whole_bag_to_messages(bag_file_list)\n",
    "spilt_traj_with_cup_pos_and_read_to_buffer(buffer, msg_list, cup_idx_list,2)\n",
    "print(f'Expert-trajectories fetched, current buffer size is {buffer.size}')\n"
   ]
  },
  {
   "cell_type": "markdown",
   "metadata": {},
   "source": [
    "### AIRL训练"
   ]
  },
  {
   "cell_type": "code",
   "execution_count": 7,
   "metadata": {},
   "outputs": [],
   "source": [
    "import tensorflow.compat.v1 as tf\n",
    "tf.disable_v2_behavior() \n",
    "import numpy as np \n",
    "import gym, os\n",
    "import algo.generator as gen \n",
    "import algo.discriminator as dis \n",
    "import utils.logger as log \n",
    "import matplotlib.pyplot as plt "
   ]
  },
  {
   "cell_type": "code",
   "execution_count": 16,
   "metadata": {},
   "outputs": [
    {
     "data": {
      "text/plain": [
       "(2, 7)"
      ]
     },
     "execution_count": 16,
     "metadata": {},
     "output_type": "execute_result"
    }
   ],
   "source": [
    "buffer.random_sample(32)"
   ]
  },
  {
   "cell_type": "code",
   "execution_count": null,
   "metadata": {},
   "outputs": [],
   "source": []
  }
 ],
 "metadata": {
  "kernelspec": {
   "display_name": "ROS",
   "language": "python",
   "name": "python3"
  },
  "language_info": {
   "codemirror_mode": {
    "name": "ipython",
    "version": 3
   },
   "file_extension": ".py",
   "mimetype": "text/x-python",
   "name": "python",
   "nbconvert_exporter": "python",
   "pygments_lexer": "ipython3",
   "version": "3.9.15"
  }
 },
 "nbformat": 4,
 "nbformat_minor": 2
}
